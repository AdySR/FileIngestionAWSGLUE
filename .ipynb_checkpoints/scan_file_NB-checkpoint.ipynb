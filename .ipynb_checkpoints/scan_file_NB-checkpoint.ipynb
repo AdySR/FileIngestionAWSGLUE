{
 "cells": [
  {
   "cell_type": "code",
   "execution_count": 1,
   "id": "c50aea92",
   "metadata": {},
   "outputs": [],
   "source": [
    "import configparser\n",
    "import glob\n",
    "import os\n",
    "\n"
   ]
  },
  {
   "cell_type": "code",
   "execution_count": 4,
   "id": "94aa9767",
   "metadata": {},
   "outputs": [
    {
     "name": "stdout",
     "output_type": "stream",
     "text": [
      "\n",
      " file_ingestion_file_source C:\\programs\\pyprojects\\FileIngestionAWS\\file_ingestion_file_source\n",
      "\n",
      " data_profile_output C:\\programs\\pyprojects\\FileIngestionAWS\\data_profile_output\n"
     ]
    }
   ],
   "source": [
    "\n",
    "read_config =configparser.ConfigParser()\n",
    "read_config.read('FileIngestion_Config_local.ini')\n",
    "details_dict = dict(read_config.items('DEFAULT'))\n",
    "DEFAULT_SECTION = read_config['DEFAULT']\n",
    "\n",
    "file_ingestion_file_source = DEFAULT_SECTION['file_ingestion_file_source']\n",
    "data_profile_output = DEFAULT_SECTION['data_profile_output']\n",
    "\n",
    "print('\\n','file_ingestion_file_source',file_ingestion_file_source)\n",
    "print('\\n','data_profile_output',data_profile_output)\n"
   ]
  },
  {
   "cell_type": "code",
   "execution_count": 6,
   "id": "bb30cdc1",
   "metadata": {},
   "outputs": [
    {
     "name": "stdout",
     "output_type": "stream",
     "text": [
      "C:\\programs\\pyprojects\\FileIngestionAWS\\file_ingestion_file_source\\CustomerData_20220330.csv\n",
      "C:\\programs\\pyprojects\\FileIngestionAWS\\file_ingestion_file_source\\organizations_100.csv\n",
      "C:\\programs\\pyprojects\\FileIngestionAWS\\file_ingestion_file_source\\people_100.csv\n"
     ]
    }
   ],
   "source": [
    "source_file_list=[]\n",
    "source_file_dict={}\n",
    "\n",
    "for file in glob.glob(file_ingestion_file_source+'\\*.csv',recursive = True):\n",
    "    print(file)\n",
    "    source_file_list.append(os.path.basename(file))\n",
    "    source_file_dict[os.path.basename(file)] = file"
   ]
  },
  {
   "cell_type": "code",
   "execution_count": null,
   "id": "ae101f45",
   "metadata": {},
   "outputs": [],
   "source": []
  },
  {
   "cell_type": "code",
   "execution_count": null,
   "id": "6062b2a4",
   "metadata": {},
   "outputs": [],
   "source": []
  }
 ],
 "metadata": {
  "kernelspec": {
   "display_name": "Python 3 (ipykernel)",
   "language": "python",
   "name": "python3"
  },
  "language_info": {
   "codemirror_mode": {
    "name": "ipython",
    "version": 3
   },
   "file_extension": ".py",
   "mimetype": "text/x-python",
   "name": "python",
   "nbconvert_exporter": "python",
   "pygments_lexer": "ipython3",
   "version": "3.11.4"
  }
 },
 "nbformat": 4,
 "nbformat_minor": 5
}
